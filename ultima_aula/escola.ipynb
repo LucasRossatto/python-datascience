{
 "cells": [
  {
   "cell_type": "code",
   "execution_count": null,
   "id": "c0b2d283",
   "metadata": {},
   "outputs": [
    {
     "ename": "",
     "evalue": "",
     "output_type": "error",
     "traceback": [
      "\u001b[1;31mRunning cells with '.venv (Python 3.13.5)' requires the ipykernel package.\n",
      "\u001b[1;31mInstall 'ipykernel' into the Python environment. \n",
      "\u001b[1;31mCommand: 'c:/Users/Aluno/Documents/python-datascience/python-datascience/.venv/Scripts/python.exe -m pip install ipykernel -U --force-reinstall'"
     ]
    }
   ],
   "source": [
    "import pandas as pd\n",
    "print(pd.__version__)\n",
    "\n",
    "df = pd.read_csv(\"dados_escola.csv\")\n",
    "\n",
    "df = df[[\"ID_Aluno\", \"Nome\", \"Idade\", \"Ano_Serie\", \"Nota\"]]\n",
    "\n",
    "print(\"Primeiros registros: \")\n",
    "display(df.head())"
   ]
  }
 ],
 "metadata": {
  "kernelspec": {
   "display_name": ".venv",
   "language": "python",
   "name": "python3"
  },
  "language_info": {
   "name": "python",
   "version": "3.13.5"
  }
 },
 "nbformat": 4,
 "nbformat_minor": 5
}
