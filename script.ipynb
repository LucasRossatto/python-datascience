{
 "cells": [
  {
   "cell_type": "code",
   "execution_count": null,
   "id": "e649b252",
   "metadata": {
    "vscode": {
     "languageId": "plaintext"
    }
   },
   "outputs": [],
   "source": []
  },
  {
   "cell_type": "code",
   "execution_count": null,
   "id": "bd8da3c8",
   "metadata": {
    "vscode": {
     "languageId": "plaintext"
    }
   },
   "outputs": [],
   "source": [
    "import pandas as pd\n",
    "import matplotlib.pyplot as ptl \n",
    "\n",
    "dados = {\n",
    "    \"Companhia\": [\"Azul\" , \"Gol\", \"Latam\" , \"Gol\", \"Azul\"],\n",
    "    \"Preco_R$\": [500, 650, 800, 550, 700],\n",
    "    \"Duracao_min\": [120, 150, 200, 130, 160]\n",
    "}\n",
    "\n",
    "printt(\"Preço Médio:\" df[\"])"
   ]
  }
 ],
 "metadata": {
  "language_info": {
   "name": "python"
  }
 },
 "nbformat": 4,
 "nbformat_minor": 5
}
